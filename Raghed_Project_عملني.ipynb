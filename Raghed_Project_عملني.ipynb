{
  "nbformat": 4,
  "nbformat_minor": 0,
  "metadata": {
    "colab": {
      "provenance": []
    },
    "kernelspec": {
      "name": "python3",
      "display_name": "Python 3"
    },
    "language_info": {
      "name": "python"
    }
  },
  "cells": [
    {
      "cell_type": "code",
      "source": [
        "! pip install colorama\n",
        "from colorama import Fore, Back, Style\n",
        "print(Fore.GREEN + 'some red text')\n",
        "print( blue(' 2023 فريق علمني يرحب بكم أهلا وسهلا   \\n', ['bold']))\n",
        "text = input(\"  الرجاء إدخال النص المراد تدقيقه  ؟\\n  \")\n",
        "text2 = text.replace(\"زرتو\", \"زرت\")\n",
        "text2 = text2.replace(\"درستو\", \"درست\")\n",
        "text2 = text2.replace(\"دائمن\", \"دائما\")\n",
        "text2 = text2.replace(\"الاستاذ\", \"الأستاذ\")\n",
        "text2 = text2.replace(\"مسائا\", \"مساءً\")\n",
        "text2 = text2.replace(\"هبه\", \"هبة\")\n",
        "text2 = text2.replace(\"دعى\", \"دعا\")\n",
        "# print(text)   # صَوتُ صَفيرِ البُلْبُلِ\n",
        "# print(Fore.GREEN +  text2)  # وتُ َفيرِ البُلْبُلِ\n",
        "print('النص قبل  التصحيح:', blue(text, 'bold'), \"\\n\")\n",
        "print('النص بعد التصحيح: ', green(text2, 'bold'))"
      ],
      "metadata": {
        "colab": {
          "base_uri": "https://localhost:8080/"
        },
        "id": "ehWPVixNN85U",
        "outputId": "20d4acec-b2a3-4b57-bb45-2e74982d90e4"
      },
      "execution_count": 90,
      "outputs": [
        {
          "output_type": "stream",
          "name": "stdout",
          "text": [
            "\u001b[1;34m 2023 فريق علمني يرحب بكم أهلا وسهلا   \n",
            "\u001b[0m\n",
            "  الرجاء إدخال النص المراد تدقيقه  ؟\n",
            "  أنا اسمي هبه و دائمن لدي إمتحان و لقد زرتو الجامعة و درستو ولقد دعى  الاستاذ علي في المحاضرة مسائا \n",
            "النص قبل  التصحيح: \u001b[1;34mأنا اسمي هبه و دائمن لدي إمتحان و لقد زرتو الجامعة و درستو ولقد دعى  الاستاذ علي في المحاضرة مسائا \u001b[0m \n",
            "\n",
            "النص بعد التصحيح:  \u001b[1;32mأنا اسمي هبة و دائما لدي إمتحان و لقد زرت الجامعة و درست ولقد دعا  الأستاذ علي في المحاضرة مساءً \u001b[0m\n"
          ]
        }
      ]
    },
    {
      "cell_type": "markdown",
      "source": [
        " ## [Color in Python](https://blog.finxter.com/how-to-print-bold-text-in-python/)"
      ],
      "metadata": {
        "id": "0lnTHfQ1WGoz"
      }
    }
  ]
}